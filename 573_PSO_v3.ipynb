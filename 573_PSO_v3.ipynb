{
  "nbformat": 4,
  "nbformat_minor": 0,
  "metadata": {
    "colab": {
      "provenance": [],
      "authorship_tag": "ABX9TyOM2F7f1YUtuwqKIY8Fonci",
      "include_colab_link": true
    },
    "kernelspec": {
      "name": "python3",
      "display_name": "Python 3"
    },
    "language_info": {
      "name": "python"
    }
  },
  "cells": [
    {
      "cell_type": "markdown",
      "metadata": {
        "id": "view-in-github",
        "colab_type": "text"
      },
      "source": [
        "<a href=\"https://colab.research.google.com/github/gtsagkatakis/OptimizationMethods_2023/blob/main/573_PSO_v3.ipynb\" target=\"_parent\"><img src=\"https://colab.research.google.com/assets/colab-badge.svg\" alt=\"Open In Colab\"/></a>"
      ]
    },
    {
      "cell_type": "markdown",
      "source": [
        "Based on the code from\n",
        "https://machinelearningmastery.com/a-gentle-introduction-to-particle-swarm-optimization/"
      ],
      "metadata": {
        "id": "08YXLHUSdbEp"
      }
    },
    {
      "cell_type": "code",
      "source": [
        "import numpy as np\n",
        "import matplotlib.pyplot as plt\n",
        "from matplotlib.animation import FuncAnimation\n",
        "import time\n",
        "from IPython.display import clear_output"
      ],
      "metadata": {
        "id": "rFxj_SjZdfpB"
      },
      "execution_count": 11,
      "outputs": []
    },
    {
      "cell_type": "code",
      "source": [
        "def f(x,y):\n",
        "    \"Objective function\"\n",
        "    return (x-3.14)**2 + (y-2.72)**2 + np.sin(3*x+1.41) + np.sin(4*y-1.73)\n",
        "\n",
        "# Compute and plot the function in 3D within [0,5]x[0,5]\n",
        "x, y = np.array(np.meshgrid(np.linspace(0,5,100), np.linspace(0,5,100)))\n",
        "z = f(x, y)\n",
        "\n",
        "# Find the global minimum\n",
        "x_min = x.ravel()[z.argmin()]\n",
        "y_min = y.ravel()[z.argmin()]"
      ],
      "metadata": {
        "id": "sWTBIHeRdjGa"
      },
      "execution_count": 12,
      "outputs": []
    },
    {
      "cell_type": "code",
      "source": [],
      "metadata": {
        "id": "cbW97croneqX"
      },
      "execution_count": 12,
      "outputs": []
    },
    {
      "cell_type": "code",
      "source": [
        "# Initialize data\n",
        "def initialize(X):\n",
        "    pbest = X\n",
        "    pbest_obj = f(X[0], X[1])\n",
        "    gbest = pbest[:, pbest_obj.argmin()]\n",
        "    gbest_obj = pbest_obj.min()\n",
        "    return pbest,gbest_obj\n",
        "\n",
        "def update(n_particles, V, X, pbest, pbest_obj, gbest, gbest_obj):\n",
        "    \"Function to do one iteration of particle swarm optimization\"\n",
        "\n",
        "    # Update params\n",
        "    r1, r2 = np.random.rand(2)\n",
        "    P1=w * V\n",
        "    P2= c1*r1*(pbest - X)\n",
        "    P3=c2*r2*(gbest.reshape(-1,2).T-X)\n",
        "    V = P1 + P2 + P3\n",
        "    #V = w * V + c1*r1*(pbest - X) + c2*r2*(gbest.reshape(-1,1)-X)\n",
        "    #V = w * V + c1*r1*(pbest - X) + c2*r2*(np.tile(gbest,(2,n_particles))-X)\n",
        "    X = X + V\n",
        "    obj = f(X[0], X[1])\n",
        "    P45=X[:, (pbest_obj >= obj)]\n",
        "    pbest[:, (pbest_obj >= obj)] = X[:, (pbest_obj >= obj)]\n",
        "    pbest_obj = np.array([pbest_obj, obj]).min(axis=0)\n",
        "    gbest = pbest[:, pbest_obj.argmin()]\n",
        "    gbest_obj = pbest_obj.min()\n",
        "    return V, X, pbest, pbest_obj, gbest, gbest_obj"
      ],
      "metadata": {
        "id": "ew7eJWobdogM"
      },
      "execution_count": 13,
      "outputs": []
    },
    {
      "cell_type": "code",
      "source": [
        "show_plots=False\n",
        "\n",
        "\n",
        "np.random.seed(1)\n",
        "\n",
        "num_iterations=100\n",
        "\n",
        "n_particles = 10\n",
        "\n",
        "# Hyper-parameter of the algorithm\n",
        "c1 = c2 = 0.1\n",
        "w = 0.8\n",
        "\n",
        "# Create particles\n",
        "X = np.random.rand(2, n_particles) * 5\n",
        "V = np.random.randn(2, n_particles) * 0.1\n",
        "pbest_obj = f(X[0], X[1])\n",
        "\n",
        "pbest,gbest_obj=initialize(X)\n",
        "gbest = pbest\n",
        "gbest_list=[]\n",
        "for i in range(num_iterations):\n",
        "    V, X, pbest, pbest_obj, gbest, gbest_obj=update(n_particles,V, X, pbest, pbest_obj, gbest, gbest_obj)  # Update particle positions and velocities\n",
        "    gbest_list.append(gbest_obj)\n",
        "\n",
        "    if show_plots:\n",
        "      # Create a new figure for each iteration\n",
        "      fig, ax = plt.subplots(figsize=(8,6))\n",
        "      img = ax.imshow(z, extent=[0, 5, 0, 5], origin='lower', cmap='viridis', alpha=0.5)\n",
        "      contours = ax.contour(x, y, z, 10, colors='black', alpha=0.4)\n",
        "      ax.clabel(contours, inline=True, fontsize=8, fmt=\"%.0f\")\n",
        "\n",
        "      # Plot the particles and their velocities\n",
        "      ax.scatter(X[0], X[1], marker='o', color='blue', alpha=0.5)\n",
        "      ax.quiver(X[0], X[1], V[0], V[1], color='blue', width=0.005, angles='xy', scale_units='xy', scale=1)\n",
        "\n",
        "      # Additional plot settings\n",
        "      ax.set_xlim([0,5])\n",
        "      ax.set_ylim([0,5])\n",
        "      ax.set_title(f'Iteration {i},gbest {gbest[0]}')\n",
        "\n",
        "      plt.show()\n",
        "\n",
        "\n"
      ],
      "metadata": {
        "id": "oQe-phdDiCHI"
      },
      "execution_count": 14,
      "outputs": []
    },
    {
      "cell_type": "code",
      "source": [
        "plt.figure(figsize=(8, 6))\n",
        "plt.plot(gbest_list, marker='o')\n",
        "plt.xlabel('Iteration')\n",
        "plt.ylabel('gbest value')\n",
        "plt.title('gbest Value Over Iterations')\n",
        "plt.show()\n",
        "print(\"PSO found best solution at f({})={}\".format(gbest, gbest_obj))\n",
        "print(\"Global optimal at f({})={}\".format([x_min, y_min], f(x_min, y_min)))"
      ],
      "metadata": {
        "colab": {
          "base_uri": "https://localhost:8080/",
          "height": 599
        },
        "id": "j191AJPUpRpK",
        "outputId": "21da6db6-9ebf-4995-d219-46a52c780e10"
      },
      "execution_count": 15,
      "outputs": [
        {
          "output_type": "display_data",
          "data": {
            "text/plain": [
              "<Figure size 800x600 with 1 Axes>"
            ],
            "image/png": "[encoded data removed]"
          },
          "metadata": {}
        },
        {
          "output_type": "stream",
          "name": "stdout",
          "text": [
            "PSO found best solution at f([3.18515567 3.12980341])=-1.8083520359190952\n",
            "Global optimal at f([3.1818181818181817, 3.131313131313131])=-1.8082706615747688\n"
          ]
        }
      ]
    },
    {
      "cell_type": "code",
      "source": [
        "#anim = FuncAnimation(fig, animate, frames=list(range(1,50)), interval=500, blit=False, repeat=True)\n",
        "#anim.save(\"PSO.gif\", dpi=120, writer=\"imagemagick\")\n",
        "\n"
      ],
      "metadata": {
        "id": "9omScc1tdrKd"
      },
      "execution_count": 16,
      "outputs": []
    }
  ]
}